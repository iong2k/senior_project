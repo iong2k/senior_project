{
 "cells": [
  {
   "cell_type": "markdown",
   "id": "ad1027be-7960-49b2-b600-46758ef0c646",
   "metadata": {},
   "source": [
    "# 資料處理過程"
   ]
  },
  {
   "cell_type": "markdown",
   "id": "145cd355-74b6-4259-abca-cb1304b54e85",
   "metadata": {},
   "source": [
    "文化地景（Cultural Landscape）是一個重要的地理學與人文學概念，涉及到自然環境與人類活動之間的相互影響，反映了人類對自然的適應、改造和持續互動。這個概念的起源和發展過程涉及許多學者的貢獻。以下是一些文化地景的重要概念以及相關學者和著作的介紹。\n",
    "\n",
    "1. 卡爾·奧爾薩（Carl Sauer）的文化地景理論\n",
    "提出者：卡爾·奧爾薩（Carl O. Sauer）\n",
    "年份：1925年\n",
    "文章：《The Morphology of Landscape》（《地景形態學》）\n",
    "概念：\n",
    "卡爾·奧爾薩是文化地景理論的奠基者之一，他認為文化地景是自然地景經過人類活動改造後的產物，體現了人類社會的文化特質。他在 1925 年的《The Morphology of Landscape》一文中提出，文化地景應該被視為人類和環境共同作用的結果，並強調研究這種互動的地理學應聚焦於理解人類如何改造自然環境，以反映文化價值和社會結構 。\n",
    "\n",
    "奧爾薩的觀點：\n",
    "\n",
    "自然地景（Natural Landscape）是人類改造前的狀態。\n",
    "文化地景（Cultural Landscape）是自然地景在文化影響下發生變化的結果。\n",
    "奧爾薩強調文化與地理環境的互動，並認為文化是塑造地景的主要動力。\n",
    "2. 皮爾斯·劉易斯（Peirce Lewis）的「閱讀地景」方法\n",
    "提出者：皮爾斯·劉易斯（Peirce Lewis）\n",
    "年份：1979年\n",
    "文章：《Axioms for Reading the Landscape: Some Guides to the American Scene》（《閱讀地景的公理：一些指導美國景觀的方法》）\n",
    "概念：\n",
    "劉易斯提出了一種閱讀地景的方法，他將地景視為一本「書」，其中包含著歷史、文化、經濟等多方面的信息。他認為人類創造的地景是社會文化的反映，學者可以通過「閱讀」地景來理解當地的社會與文化發展過程 。\n",
    "\n",
    "劉易斯的觀點：\n",
    "\n",
    "地景包含文化信息，類似於文本，可以被解讀。\n",
    "學者應通過細緻觀察來分析地景，進而揭示當地的文化與歷史。\n",
    "劉易斯的地景閱讀方法強調從日常環境中理解人類活動的歷史痕跡。\n",
    "3. 肯尼思·奧爾德里奇（Kenneth Olwig）的地景視角\n",
    "提出者：肯尼思·奧爾德里奇（Kenneth Olwig）\n",
    "年份：1996年\n",
    "文章：《Recovering the Substantive Nature of Landscape》（《恢復地景的實質性》）\n",
    "概念：\n",
    "奧爾德里奇批評了將地景僅僅視為視覺景觀的觀點，主張地景不僅是視覺上的表現，更是具有深厚歷史和政治內涵的實體。他提出，地景應該被理解為一個涉及權力、法律和社會結構的社會空間 。\n",
    "\n",
    "奧爾德里奇的觀點：\n",
    "\n",
    "地景是社會空間，包含法律和政治權力的痕跡。\n",
    "地景研究不應只停留在視覺層面，還應探討其背後的權力結構和歷史發展。\n",
    "奧爾德里奇的觀點強調地景的政治性，特別是在民族國家構建過程中的作用。\n",
    "4. 世界遺產中的文化地景概念\n",
    "提出者：聯合國教科文組織（UNESCO）\n",
    "年份：1992年\n",
    "文獻：世界遺產委員會決議\n",
    "概念：\n",
    "聯合國教科文組織於 1992 年將「文化地景」納入世界遺產的保護範圍，正式承認這些地景作為文化遺產的重要類型。UNESCO 將文化地景定義為「人類和自然環境的共同創造」，並劃分為三種類型：\n",
    "\n",
    "意象地景：如花園和公園，完全由人類創造。\n",
    "有機演化地景：自然地景在社會發展過程中逐漸演變，如農田或鄉村。\n",
    "關聯地景：與宗教或文化信仰密切相關的地景，如神聖的山脈 。\n",
    "教科文組織的觀點：\n",
    "\n",
    "強調文化地景是文化和自然共同創造的產物，並體現不同時代、社會和文化的價值。\n",
    "認為這些地景是需要保護的文化遺產，並體現了人類與環境的長期互動。\n",
    "參考文獻\n",
    "Sauer, C. O. (1925). The Morphology of Landscape. University of California Publications in Geography.\n",
    "\n",
    "Lewis, P. (1979). Axioms for Reading the Landscape: Some Guides to the American Scene. In D. W. Meinig (Ed.), The Interpretation of Ordinary Landscapes: Geographical Essays (pp. 11-32). Oxford University Press.\n",
    "\n",
    "Olwig, K. R. (1996). Recovering the Substantive Nature of Landscape. Annals of the Association of American Geographers, 86(4), 630-653.\n",
    "\n",
    "UNESCO (1992). Operational Guidelines for the Implementation of the World Heritage Convention."
   ]
  }
 ],
 "metadata": {
  "kernelspec": {
   "display_name": "Python 3 (ipykernel)",
   "language": "python",
   "name": "python3"
  },
  "language_info": {
   "codemirror_mode": {
    "name": "ipython",
    "version": 3
   },
   "file_extension": ".py",
   "mimetype": "text/x-python",
   "name": "python",
   "nbconvert_exporter": "python",
   "pygments_lexer": "ipython3",
   "version": "3.12.4"
  }
 },
 "nbformat": 4,
 "nbformat_minor": 5
}
