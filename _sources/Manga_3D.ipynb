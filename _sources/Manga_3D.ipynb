{
 "cells": [
  {
   "cell_type": "markdown",
   "id": "97497269-9275-4e6e-a6ca-bd736f529a7d",
   "metadata": {},
   "source": [
    "# 文化地景紀錄：艋舺龍山寺盂蘭盆會（中元普渡）"
   ]
  },
  {
   "cell_type": "markdown",
   "id": "af1e5a5f-46df-41d0-a265-72a09f304ad1",
   "metadata": {
    "jp-MarkdownHeadingCollapsed": true
   },
   "source": [
    "## 廟埕"
   ]
  },
  {
   "cell_type": "markdown",
   "id": "ea78fcce-c06f-49f2-b57b-55ec57126725",
   "metadata": {},
   "source": [
    "<iframe width=\"600\" height=\"400\" allowfullscreen style=\"border-style:none;\" src=\"https://cdn.pannellum.org/2.5/pannellum.htm#panorama=https%3A//i.imgur.com/MC3WXDw.jpeg&title=%20Bang-kah%20Liong-san-si&author=LIM%20TING-IONG&autoLoad=true\"></iframe>"
   ]
  },
  {
   "cell_type": "markdown",
   "id": "91afa176-8bff-46ca-abb0-8f24daebdf37",
   "metadata": {
    "jp-MarkdownHeadingCollapsed": true
   },
   "source": [
    "## 中庭"
   ]
  },
  {
   "cell_type": "markdown",
   "id": "83c69b16-9852-421d-9ad3-ceec5187e4eb",
   "metadata": {},
   "source": [
    "<iframe width=\"600\" height=\"400\" allowfullscreen style=\"border-style:none;\" src=\"https://cdn.pannellum.org/2.5/pannellum.htm#panorama=https%3A//i.imgur.com/wBkMzs2.jpeg&title=%20Bang-kah%20Liong-san-si&author=LIM%20TING-IONG&autoLoad=true\"></iframe>"
   ]
  }
 ],
 "metadata": {
  "kernelspec": {
   "display_name": "Python 3 (ipykernel)",
   "language": "python",
   "name": "python3"
  },
  "language_info": {
   "codemirror_mode": {
    "name": "ipython",
    "version": 3
   },
   "file_extension": ".py",
   "mimetype": "text/x-python",
   "name": "python",
   "nbconvert_exporter": "python",
   "pygments_lexer": "ipython3",
   "version": "3.12.4"
  }
 },
 "nbformat": 4,
 "nbformat_minor": 5
}
